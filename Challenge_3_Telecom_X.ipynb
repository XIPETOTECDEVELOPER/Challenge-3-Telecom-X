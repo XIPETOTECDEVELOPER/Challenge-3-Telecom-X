{
  "nbformat": 4,
  "nbformat_minor": 0,
  "metadata": {
    "colab": {
      "provenance": [],
      "authorship_tag": "ABX9TyNugCUZHvjooDX1aZPHDtYI",
      "include_colab_link": true
    },
    "kernelspec": {
      "name": "python3",
      "display_name": "Python 3"
    },
    "language_info": {
      "name": "python"
    }
  },
  "cells": [
    {
      "cell_type": "markdown",
      "metadata": {
        "id": "view-in-github",
        "colab_type": "text"
      },
      "source": [
        "<a href=\"https://colab.research.google.com/github/XIPETOTECDEVELOPER/Challenge-3-Telecom-X/blob/main/Challenge_3_Telecom_X.ipynb\" target=\"_parent\"><img src=\"https://colab.research.google.com/assets/colab-badge.svg\" alt=\"Open In Colab\"/></a>"
      ]
    },
    {
      "cell_type": "markdown",
      "source": [
        "# **Challenge 3 realizado por Edgardo Uriel Ruiz Villa**"
      ],
      "metadata": {
        "id": "DauxXM4pSPfF"
      }
    },
    {
      "cell_type": "code",
      "execution_count": null,
      "metadata": {
        "id": "w3Tski7ZSKwA"
      },
      "outputs": [],
      "source": []
    }
  ]
}